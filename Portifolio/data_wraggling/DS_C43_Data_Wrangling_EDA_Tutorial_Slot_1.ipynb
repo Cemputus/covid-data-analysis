{
 "cells": [
  {
   "cell_type": "markdown",
   "id": "f780b2d2",
   "metadata": {},
   "source": [
    "# Import Necessary Libraries"
   ]
  },
  {
   "cell_type": "code",
   "execution_count": 2,
   "id": "85236b6c",
   "metadata": {},
   "outputs": [],
   "source": [
    "import pandas as pd\n",
    "import numpy as np\n",
    "import matplotlib.pyplot as plt#Data Visualization Libraries\n",
    "import seaborn as sns #Data Visualization Libraries\n",
    "import warnings\n",
    "warnings.filterwarnings('ignore')\n",
    "#pd.set_option(\"display.max_rows\",1000)"
   ]
  },
  {
   "cell_type": "markdown",
   "id": "73d40eb2",
   "metadata": {},
   "source": [
    "# Load the Data"
   ]
  },
  {
   "cell_type": "code",
   "execution_count": 3,
   "id": "25aac9e9",
   "metadata": {},
   "outputs": [],
   "source": [
    "df=pd.read_csv(\"day.csv\")"
   ]
  },
  {
   "cell_type": "code",
   "execution_count": 4,
   "id": "3459b932",
   "metadata": {},
   "outputs": [
    {
     "data": {
      "text/html": [
       "<div>\n",
       "<style scoped>\n",
       "    .dataframe tbody tr th:only-of-type {\n",
       "        vertical-align: middle;\n",
       "    }\n",
       "\n",
       "    .dataframe tbody tr th {\n",
       "        vertical-align: top;\n",
       "    }\n",
       "\n",
       "    .dataframe thead th {\n",
       "        text-align: right;\n",
       "    }\n",
       "</style>\n",
       "<table border=\"1\" class=\"dataframe\">\n",
       "  <thead>\n",
       "    <tr style=\"text-align: right;\">\n",
       "      <th></th>\n",
       "      <th>instant</th>\n",
       "      <th>dteday</th>\n",
       "      <th>season</th>\n",
       "      <th>yr</th>\n",
       "      <th>mnth</th>\n",
       "      <th>holiday</th>\n",
       "      <th>weekday</th>\n",
       "      <th>workingday</th>\n",
       "      <th>weathersit</th>\n",
       "      <th>temp</th>\n",
       "      <th>atemp</th>\n",
       "      <th>hum</th>\n",
       "      <th>windspeed</th>\n",
       "      <th>casual</th>\n",
       "      <th>registered</th>\n",
       "      <th>cnt</th>\n",
       "    </tr>\n",
       "  </thead>\n",
       "  <tbody>\n",
       "    <tr>\n",
       "      <th>0</th>\n",
       "      <td>1</td>\n",
       "      <td>01-01-2018</td>\n",
       "      <td>1</td>\n",
       "      <td>0</td>\n",
       "      <td>1</td>\n",
       "      <td>0</td>\n",
       "      <td>1</td>\n",
       "      <td>1</td>\n",
       "      <td>2</td>\n",
       "      <td>14.110847</td>\n",
       "      <td>18.18125</td>\n",
       "      <td>80.5833</td>\n",
       "      <td>10.749882</td>\n",
       "      <td>331</td>\n",
       "      <td>654</td>\n",
       "      <td>985</td>\n",
       "    </tr>\n",
       "    <tr>\n",
       "      <th>1</th>\n",
       "      <td>2</td>\n",
       "      <td>02-01-2018</td>\n",
       "      <td>1</td>\n",
       "      <td>0</td>\n",
       "      <td>1</td>\n",
       "      <td>0</td>\n",
       "      <td>2</td>\n",
       "      <td>1</td>\n",
       "      <td>2</td>\n",
       "      <td>14.902598</td>\n",
       "      <td>17.68695</td>\n",
       "      <td>69.6087</td>\n",
       "      <td>16.652113</td>\n",
       "      <td>131</td>\n",
       "      <td>670</td>\n",
       "      <td>801</td>\n",
       "    </tr>\n",
       "    <tr>\n",
       "      <th>2</th>\n",
       "      <td>3</td>\n",
       "      <td>03-01-2018</td>\n",
       "      <td>1</td>\n",
       "      <td>0</td>\n",
       "      <td>1</td>\n",
       "      <td>0</td>\n",
       "      <td>3</td>\n",
       "      <td>1</td>\n",
       "      <td>1</td>\n",
       "      <td>8.050924</td>\n",
       "      <td>9.47025</td>\n",
       "      <td>43.7273</td>\n",
       "      <td>16.636703</td>\n",
       "      <td>120</td>\n",
       "      <td>1229</td>\n",
       "      <td>1349</td>\n",
       "    </tr>\n",
       "    <tr>\n",
       "      <th>3</th>\n",
       "      <td>4</td>\n",
       "      <td>04-01-2018</td>\n",
       "      <td>1</td>\n",
       "      <td>0</td>\n",
       "      <td>1</td>\n",
       "      <td>0</td>\n",
       "      <td>4</td>\n",
       "      <td>1</td>\n",
       "      <td>1</td>\n",
       "      <td>8.200000</td>\n",
       "      <td>10.60610</td>\n",
       "      <td>59.0435</td>\n",
       "      <td>10.739832</td>\n",
       "      <td>108</td>\n",
       "      <td>1454</td>\n",
       "      <td>1562</td>\n",
       "    </tr>\n",
       "    <tr>\n",
       "      <th>4</th>\n",
       "      <td>5</td>\n",
       "      <td>05-01-2018</td>\n",
       "      <td>1</td>\n",
       "      <td>0</td>\n",
       "      <td>1</td>\n",
       "      <td>0</td>\n",
       "      <td>5</td>\n",
       "      <td>1</td>\n",
       "      <td>1</td>\n",
       "      <td>9.305237</td>\n",
       "      <td>11.46350</td>\n",
       "      <td>43.6957</td>\n",
       "      <td>12.522300</td>\n",
       "      <td>82</td>\n",
       "      <td>1518</td>\n",
       "      <td>1600</td>\n",
       "    </tr>\n",
       "  </tbody>\n",
       "</table>\n",
       "</div>"
      ],
      "text/plain": [
       "   instant      dteday  season  yr  mnth  holiday  weekday  workingday  \\\n",
       "0        1  01-01-2018       1   0     1        0        1           1   \n",
       "1        2  02-01-2018       1   0     1        0        2           1   \n",
       "2        3  03-01-2018       1   0     1        0        3           1   \n",
       "3        4  04-01-2018       1   0     1        0        4           1   \n",
       "4        5  05-01-2018       1   0     1        0        5           1   \n",
       "\n",
       "   weathersit       temp     atemp      hum  windspeed  casual  registered  \\\n",
       "0           2  14.110847  18.18125  80.5833  10.749882     331         654   \n",
       "1           2  14.902598  17.68695  69.6087  16.652113     131         670   \n",
       "2           1   8.050924   9.47025  43.7273  16.636703     120        1229   \n",
       "3           1   8.200000  10.60610  59.0435  10.739832     108        1454   \n",
       "4           1   9.305237  11.46350  43.6957  12.522300      82        1518   \n",
       "\n",
       "    cnt  \n",
       "0   985  \n",
       "1   801  \n",
       "2  1349  \n",
       "3  1562  \n",
       "4  1600  "
      ]
     },
     "execution_count": 4,
     "metadata": {},
     "output_type": "execute_result"
    }
   ],
   "source": [
    "df.head()"
   ]
  },
  {
   "cell_type": "code",
   "execution_count": 9,
   "id": "100809ee",
   "metadata": {},
   "outputs": [
    {
     "data": {
      "text/plain": [
       "(730, 16)"
      ]
     },
     "execution_count": 9,
     "metadata": {},
     "output_type": "execute_result"
    }
   ],
   "source": [
    "df.shape"
   ]
  },
  {
   "cell_type": "code",
   "execution_count": 5,
   "id": "3227ec36",
   "metadata": {},
   "outputs": [
    {
     "name": "stdout",
     "output_type": "stream",
     "text": [
      "<class 'pandas.core.frame.DataFrame'>\n",
      "RangeIndex: 730 entries, 0 to 729\n",
      "Data columns (total 16 columns):\n",
      " #   Column      Non-Null Count  Dtype  \n",
      "---  ------      --------------  -----  \n",
      " 0   instant     730 non-null    int64  \n",
      " 1   dteday      730 non-null    object \n",
      " 2   season      730 non-null    int64  \n",
      " 3   yr          730 non-null    int64  \n",
      " 4   mnth        730 non-null    int64  \n",
      " 5   holiday     730 non-null    int64  \n",
      " 6   weekday     730 non-null    int64  \n",
      " 7   workingday  730 non-null    int64  \n",
      " 8   weathersit  730 non-null    int64  \n",
      " 9   temp        730 non-null    float64\n",
      " 10  atemp       730 non-null    float64\n",
      " 11  hum         730 non-null    float64\n",
      " 12  windspeed   730 non-null    float64\n",
      " 13  casual      730 non-null    int64  \n",
      " 14  registered  730 non-null    int64  \n",
      " 15  cnt         730 non-null    int64  \n",
      "dtypes: float64(4), int64(11), object(1)\n",
      "memory usage: 91.4+ KB\n"
     ]
    }
   ],
   "source": [
    "df.info()"
   ]
  },
  {
   "cell_type": "code",
   "execution_count": null,
   "id": "6b431eb5",
   "metadata": {},
   "outputs": [],
   "source": [
    "# https://cdn.upgrad.com/uploads/production/0fdfa494-a9bf-4b32-873f-900e3b262948/Readme.txt"
   ]
  },
  {
   "cell_type": "code",
   "execution_count": 7,
   "id": "b2874b8a",
   "metadata": {},
   "outputs": [
    {
     "name": "stdout",
     "output_type": "stream",
     "text": [
      "instant 730\n",
      "dteday 730\n",
      "season 4\n",
      "yr 2\n",
      "mnth 12\n",
      "holiday 2\n",
      "weekday 7\n",
      "workingday 2\n",
      "weathersit 3\n",
      "temp 498\n",
      "atemp 689\n",
      "hum 594\n",
      "windspeed 649\n",
      "casual 605\n",
      "registered 678\n",
      "cnt 695\n"
     ]
    }
   ],
   "source": [
    "for i in df.columns:\n",
    "    print(i,df[i].nunique())"
   ]
  },
  {
   "cell_type": "code",
   "execution_count": 10,
   "id": "3587ba4a",
   "metadata": {},
   "outputs": [],
   "source": [
    "cont_cols=[\"temp\",\"atemp\",\"hum\",\"windspeed\",\"casual\",\"registered\",\"cnt\"]\n",
    "cat_cols=[\"season\",\"yr\",\"mnth\",\"holiday\",\"weekday\",\"workingday\",\"weathersit\"]\n",
    "id_cols=[\"instant\",\"dteday\"]"
   ]
  },
  {
   "cell_type": "code",
   "execution_count": 11,
   "id": "e5d7f623",
   "metadata": {},
   "outputs": [
    {
     "data": {
      "text/plain": [
       "16"
      ]
     },
     "execution_count": 11,
     "metadata": {},
     "output_type": "execute_result"
    }
   ],
   "source": [
    "len(cont_cols)+len(cat_cols)+len(id_cols)"
   ]
  },
  {
   "cell_type": "code",
   "execution_count": 12,
   "id": "b99bda2c",
   "metadata": {},
   "outputs": [],
   "source": [
    "## Missing Values"
   ]
  },
  {
   "cell_type": "code",
   "execution_count": 13,
   "id": "84ff9975",
   "metadata": {},
   "outputs": [
    {
     "data": {
      "text/plain": [
       "instant       0.0\n",
       "dteday        0.0\n",
       "season        0.0\n",
       "yr            0.0\n",
       "mnth          0.0\n",
       "holiday       0.0\n",
       "weekday       0.0\n",
       "workingday    0.0\n",
       "weathersit    0.0\n",
       "temp          0.0\n",
       "atemp         0.0\n",
       "hum           0.0\n",
       "windspeed     0.0\n",
       "casual        0.0\n",
       "registered    0.0\n",
       "cnt           0.0\n",
       "dtype: float64"
      ]
     },
     "execution_count": 13,
     "metadata": {},
     "output_type": "execute_result"
    }
   ],
   "source": [
    "df.isnull().mean()#percentage of missing values"
   ]
  },
  {
   "cell_type": "code",
   "execution_count": null,
   "id": "4d586413",
   "metadata": {},
   "outputs": [],
   "source": [
    "df.isnull().sum()##count of missing values"
   ]
  },
  {
   "cell_type": "markdown",
   "id": "12921acb",
   "metadata": {},
   "source": [
    "## EDA --> Exploratory Data Analysis\n",
    "\n",
    "## What is the effect of wheather conditions on demand of bikes (cnt)?"
   ]
  },
  {
   "cell_type": "code",
   "execution_count": null,
   "id": "1d11db51",
   "metadata": {},
   "outputs": [],
   "source": [
    "## Univariate Analysis --> Analysis with Single variable\n",
    "--> Mean, Median, Max, Min, Std, Variance, Count\n",
    "--> Distribution (Histogram,Distplot,Countplot,boxplot)\n",
    "## Bivaraite Analsyis --> Analysis with two variables\n",
    "--> Relationship between two variables (Scatterplot, boxplot,barplot etc)\n",
    "## Multivariate Analysis (Optional)\n",
    "--> Relationship between more than variables"
   ]
  },
  {
   "cell_type": "code",
   "execution_count": 14,
   "id": "0499dccf",
   "metadata": {},
   "outputs": [
    {
     "data": {
      "text/plain": [
       "<AxesSubplot:xlabel='season', ylabel='count'>"
      ]
     },
     "execution_count": 14,
     "metadata": {},
     "output_type": "execute_result"
    },
    {
     "data": {
      "image/png": "[encoded data removed]",
      "text/plain": [
       "<Figure size 432x288 with 1 Axes>"
      ]
     },
     "metadata": {
      "needs_background": "light"
     },
     "output_type": "display_data"
    }
   ],
   "source": [
    "sns.countplot(df[\"season\"])"
   ]
  },
  {
   "cell_type": "code",
   "execution_count": 15,
   "id": "436dee71",
   "metadata": {},
   "outputs": [
    {
     "data": {
      "text/plain": [
       "<AxesSubplot:xlabel='temp', ylabel='cnt'>"
      ]
     },
     "execution_count": 15,
     "metadata": {},
     "output_type": "execute_result"
    },
    {
     "data": {
      "image/png": "[encoded data removed]",
      "text/plain": [
       "<Figure size 432x288 with 1 Axes>"
      ]
     },
     "metadata": {
      "needs_background": "light"
     },
     "output_type": "display_data"
    }
   ],
   "source": [
    "sns.scatterplot(df[\"temp\"],df[\"cnt\"])"
   ]
  },
  {
   "cell_type": "code",
   "execution_count": 16,
   "id": "83e6d98b",
   "metadata": {},
   "outputs": [
    {
     "data": {
      "text/plain": [
       "<AxesSubplot:xlabel='mnth', ylabel='temp'>"
      ]
     },
     "execution_count": 16,
     "metadata": {},
     "output_type": "execute_result"
    },
    {
     "data": {
      "image/png": "[encoded data removed]",
      "text/plain": [
       "<Figure size 432x288 with 1 Axes>"
      ]
     },
     "metadata": {
      "needs_background": "light"
     },
     "output_type": "display_data"
    }
   ],
   "source": [
    "sns.boxplot(df[\"mnth\"],df[\"temp\"])"
   ]
  },
  {
   "cell_type": "code",
   "execution_count": 17,
   "id": "3d6a79a5",
   "metadata": {},
   "outputs": [
    {
     "data": {
      "text/plain": [
       "<AxesSubplot:xlabel='mnth', ylabel='cnt'>"
      ]
     },
     "execution_count": 17,
     "metadata": {},
     "output_type": "execute_result"
    },
    {
     "data": {
      "image/png": "[encoded data removed]",
      "text/plain": [
       "<Figure size 432x288 with 1 Axes>"
      ]
     },
     "metadata": {
      "needs_background": "light"
     },
     "output_type": "display_data"
    }
   ],
   "source": [
    "sns.boxplot(df[\"mnth\"],df[\"cnt\"])"
   ]
  },
  {
   "cell_type": "code",
   "execution_count": 19,
   "id": "46c1246d",
   "metadata": {},
   "outputs": [
    {
     "data": {
      "text/plain": [
       "<AxesSubplot:xlabel='mnth', ylabel='cnt'>"
      ]
     },
     "execution_count": 19,
     "metadata": {},
     "output_type": "execute_result"
    },
    {
     "data": {
      "image/png": "[encoded data removed]",
      "text/plain": [
       "<Figure size 432x288 with 1 Axes>"
      ]
     },
     "metadata": {
      "needs_background": "light"
     },
     "output_type": "display_data"
    }
   ],
   "source": [
    "sns.boxplot(df[\"mnth\"],df[\"cnt\"],hue=df[\"yr\"])"
   ]
  },
  {
   "cell_type": "code",
   "execution_count": 21,
   "id": "7cd01a6c",
   "metadata": {},
   "outputs": [
    {
     "data": {
      "text/plain": [
       "<AxesSubplot:>"
      ]
     },
     "execution_count": 21,
     "metadata": {},
     "output_type": "execute_result"
    },
    {
     "data": {
      "image/png": "[encoded data removed]",
      "text/plain": [
       "<Figure size 432x288 with 2 Axes>"
      ]
     },
     "metadata": {
      "needs_background": "light"
     },
     "output_type": "display_data"
    }
   ],
   "source": [
    "sns.heatmap(df[[\"temp\",\"atemp\",\"windspeed\",\"cnt\"]].corr(),annot=True)"
   ]
  },
  {
   "cell_type": "markdown",
   "id": "da15cf72",
   "metadata": {},
   "source": [
    "## Mean Vs Median"
   ]
  },
  {
   "cell_type": "code",
   "execution_count": 23,
   "id": "a28e5972",
   "metadata": {},
   "outputs": [
    {
     "name": "stdout",
     "output_type": "stream",
     "text": [
      "Mean: 3.0\n",
      "Median: 3.0\n"
     ]
    }
   ],
   "source": [
    "import numpy as np\n",
    "\n",
    "arr=np.array([1,2,3,4,5])\n",
    "\n",
    "print(\"Mean:\",arr.mean())\n",
    "\n",
    "print(\"Median:\",np.median(arr))\n",
    "\n",
    "## Whenever there are no outliers we can go either with mean inputation or median imputation"
   ]
  },
  {
   "cell_type": "code",
   "execution_count": 24,
   "id": "7044dd74",
   "metadata": {},
   "outputs": [
    {
     "name": "stdout",
     "output_type": "stream",
     "text": [
      "Mean: 19.166666666666668\n",
      "Median: 3.5\n"
     ]
    }
   ],
   "source": [
    "import numpy as np\n",
    "\n",
    "arr=np.array([1,2,3,4,5,100])\n",
    "\n",
    "print(\"Mean:\",arr.mean())\n",
    "\n",
    "print(\"Median:\",np.median(arr))\n",
    "\n",
    "## Whenever there are outliers we should go with median imputation"
   ]
  },
  {
   "cell_type": "markdown",
   "id": "a8bad5ca",
   "metadata": {},
   "source": [
    "## Missing Value Imputation"
   ]
  },
  {
   "cell_type": "code",
   "execution_count": 29,
   "id": "49aaf7fa",
   "metadata": {},
   "outputs": [],
   "source": [
    "pd.set_option(\"display.max_rows\",1000)"
   ]
  },
  {
   "cell_type": "code",
   "execution_count": 25,
   "id": "c41ffc35",
   "metadata": {},
   "outputs": [],
   "source": [
    "df=pd.read_csv(\"housing.csv\")"
   ]
  },
  {
   "cell_type": "code",
   "execution_count": 26,
   "id": "5b3c77d4",
   "metadata": {},
   "outputs": [
    {
     "name": "stdout",
     "output_type": "stream",
     "text": [
      "<class 'pandas.core.frame.DataFrame'>\n",
      "RangeIndex: 1460 entries, 0 to 1459\n",
      "Data columns (total 81 columns):\n",
      " #   Column         Non-Null Count  Dtype  \n",
      "---  ------         --------------  -----  \n",
      " 0   Id             1460 non-null   int64  \n",
      " 1   MSSubClass     1460 non-null   int64  \n",
      " 2   MSZoning       1460 non-null   object \n",
      " 3   LotFrontage    1201 non-null   float64\n",
      " 4   LotArea        1460 non-null   int64  \n",
      " 5   Street         1460 non-null   object \n",
      " 6   Alley          91 non-null     object \n",
      " 7   LotShape       1460 non-null   object \n",
      " 8   LandContour    1460 non-null   object \n",
      " 9   Utilities      1460 non-null   object \n",
      " 10  LotConfig      1460 non-null   object \n",
      " 11  LandSlope      1460 non-null   object \n",
      " 12  Neighborhood   1460 non-null   object \n",
      " 13  Condition1     1460 non-null   object \n",
      " 14  Condition2     1460 non-null   object \n",
      " 15  BldgType       1460 non-null   object \n",
      " 16  HouseStyle     1460 non-null   object \n",
      " 17  OverallQual    1460 non-null   int64  \n",
      " 18  OverallCond    1460 non-null   int64  \n",
      " 19  YearBuilt      1460 non-null   int64  \n",
      " 20  YearRemodAdd   1460 non-null   int64  \n",
      " 21  RoofStyle      1460 non-null   object \n",
      " 22  RoofMatl       1460 non-null   object \n",
      " 23  Exterior1st    1460 non-null   object \n",
      " 24  Exterior2nd    1460 non-null   object \n",
      " 25  MasVnrType     1452 non-null   object \n",
      " 26  MasVnrArea     1452 non-null   float64\n",
      " 27  ExterQual      1460 non-null   object \n",
      " 28  ExterCond      1460 non-null   object \n",
      " 29  Foundation     1460 non-null   object \n",
      " 30  BsmtQual       1423 non-null   object \n",
      " 31  BsmtCond       1423 non-null   object \n",
      " 32  BsmtExposure   1422 non-null   object \n",
      " 33  BsmtFinType1   1423 non-null   object \n",
      " 34  BsmtFinSF1     1460 non-null   int64  \n",
      " 35  BsmtFinType2   1422 non-null   object \n",
      " 36  BsmtFinSF2     1460 non-null   int64  \n",
      " 37  BsmtUnfSF      1460 non-null   int64  \n",
      " 38  TotalBsmtSF    1460 non-null   int64  \n",
      " 39  Heating        1460 non-null   object \n",
      " 40  HeatingQC      1460 non-null   object \n",
      " 41  CentralAir     1460 non-null   object \n",
      " 42  Electrical     1459 non-null   object \n",
      " 43  1stFlrSF       1460 non-null   int64  \n",
      " 44  2ndFlrSF       1460 non-null   int64  \n",
      " 45  LowQualFinSF   1460 non-null   int64  \n",
      " 46  GrLivArea      1460 non-null   int64  \n",
      " 47  BsmtFullBath   1460 non-null   int64  \n",
      " 48  BsmtHalfBath   1460 non-null   int64  \n",
      " 49  FullBath       1460 non-null   int64  \n",
      " 50  HalfBath       1460 non-null   int64  \n",
      " 51  BedroomAbvGr   1460 non-null   int64  \n",
      " 52  KitchenAbvGr   1460 non-null   int64  \n",
      " 53  KitchenQual    1460 non-null   object \n",
      " 54  TotRmsAbvGrd   1460 non-null   int64  \n",
      " 55  Functional     1460 non-null   object \n",
      " 56  Fireplaces     1460 non-null   int64  \n",
      " 57  FireplaceQu    770 non-null    object \n",
      " 58  GarageType     1379 non-null   object \n",
      " 59  GarageYrBlt    1379 non-null   float64\n",
      " 60  GarageFinish   1379 non-null   object \n",
      " 61  GarageCars     1460 non-null   int64  \n",
      " 62  GarageArea     1460 non-null   int64  \n",
      " 63  GarageQual     1379 non-null   object \n",
      " 64  GarageCond     1379 non-null   object \n",
      " 65  PavedDrive     1460 non-null   object \n",
      " 66  WoodDeckSF     1460 non-null   int64  \n",
      " 67  OpenPorchSF    1460 non-null   int64  \n",
      " 68  EnclosedPorch  1460 non-null   int64  \n",
      " 69  3SsnPorch      1460 non-null   int64  \n",
      " 70  ScreenPorch    1460 non-null   int64  \n",
      " 71  PoolArea       1460 non-null   int64  \n",
      " 72  PoolQC         7 non-null      object \n",
      " 73  Fence          281 non-null    object \n",
      " 74  MiscFeature    54 non-null     object \n",
      " 75  MiscVal        1460 non-null   int64  \n",
      " 76  MoSold         1460 non-null   int64  \n",
      " 77  YrSold         1460 non-null   int64  \n",
      " 78  SaleType       1460 non-null   object \n",
      " 79  SaleCondition  1460 non-null   object \n",
      " 80  SalePrice      1460 non-null   int64  \n",
      "dtypes: float64(3), int64(35), object(43)\n",
      "memory usage: 924.0+ KB\n"
     ]
    }
   ],
   "source": [
    "df.info()"
   ]
  },
  {
   "cell_type": "code",
   "execution_count": 27,
   "id": "8a38f1bb",
   "metadata": {},
   "outputs": [
    {
     "data": {
      "text/plain": [
       "(1460, 81)"
      ]
     },
     "execution_count": 27,
     "metadata": {},
     "output_type": "execute_result"
    }
   ],
   "source": [
    "df.shape"
   ]
  },
  {
   "cell_type": "code",
   "execution_count": 41,
   "id": "5f76834c",
   "metadata": {},
   "outputs": [],
   "source": [
    "temp=df.isnull().mean().reset_index()\n",
    "temp=temp.rename(columns={\"index\":\"Column Name\",0:\"Missing Value Fraction\"})\n",
    "temp=temp.sort_values(by=\"Missing Value Fraction\",ascending=False)"
   ]
  },
  {
   "cell_type": "code",
   "execution_count": 45,
   "id": "e5608af2",
   "metadata": {},
   "outputs": [],
   "source": [
    "drop_cols=list(temp[temp[\"Missing Value Fraction\"]>0.5][\"Column Name\"])"
   ]
  },
  {
   "cell_type": "code",
   "execution_count": 46,
   "id": "1ec3c37e",
   "metadata": {},
   "outputs": [
    {
     "data": {
      "text/plain": [
       "['PoolQC', 'MiscFeature', 'Alley', 'Fence']"
      ]
     },
     "execution_count": 46,
     "metadata": {},
     "output_type": "execute_result"
    }
   ],
   "source": [
    "drop_cols"
   ]
  },
  {
   "cell_type": "code",
   "execution_count": 47,
   "id": "1dac443c",
   "metadata": {},
   "outputs": [],
   "source": [
    "df1=df.drop(drop_cols,axis=1)"
   ]
  },
  {
   "cell_type": "code",
   "execution_count": 48,
   "id": "792414a3",
   "metadata": {},
   "outputs": [
    {
     "data": {
      "text/plain": [
       "(1460, 77)"
      ]
     },
     "execution_count": 48,
     "metadata": {},
     "output_type": "execute_result"
    }
   ],
   "source": [
    "df1.shape"
   ]
  },
  {
   "cell_type": "code",
   "execution_count": 49,
   "id": "b76dc780",
   "metadata": {},
   "outputs": [
    {
     "data": {
      "text/plain": [
       "0.1773972602739726"
      ]
     },
     "execution_count": 49,
     "metadata": {},
     "output_type": "execute_result"
    }
   ],
   "source": [
    "df[\"LotFrontage\"].isnull().mean()"
   ]
  },
  {
   "cell_type": "code",
   "execution_count": 50,
   "id": "9710027b",
   "metadata": {},
   "outputs": [
    {
     "data": {
      "text/plain": [
       "0       65.0\n",
       "1       80.0\n",
       "2       68.0\n",
       "3       60.0\n",
       "4       84.0\n",
       "        ... \n",
       "1455    62.0\n",
       "1456    85.0\n",
       "1457    66.0\n",
       "1458    68.0\n",
       "1459    75.0\n",
       "Name: LotFrontage, Length: 1460, dtype: float64"
      ]
     },
     "execution_count": 50,
     "metadata": {},
     "output_type": "execute_result"
    }
   ],
   "source": [
    "df[\"LotFrontage\"]"
   ]
  },
  {
   "cell_type": "code",
   "execution_count": 51,
   "id": "2f9be24e",
   "metadata": {},
   "outputs": [
    {
     "data": {
      "text/plain": [
       "<AxesSubplot:xlabel='LotFrontage'>"
      ]
     },
     "execution_count": 51,
     "metadata": {},
     "output_type": "execute_result"
    },
    {
     "data": {
      "image/png": "[encoded data removed]",
      "text/plain": [
       "<Figure size 432x288 with 1 Axes>"
      ]
     },
     "metadata": {
      "needs_background": "light"
     },
     "output_type": "display_data"
    }
   ],
   "source": [
    "sns.boxplot(df[\"LotFrontage\"])"
   ]
  },
  {
   "cell_type": "code",
   "execution_count": 53,
   "id": "5665ed72",
   "metadata": {},
   "outputs": [],
   "source": [
    "median=df1[\"LotFrontage\"].median()\n",
    "df1[\"LotFrontage\"].fillna(median,inplace=True)\n",
    "#df1[\"LotFrontage\"]=df1[\"LotFrontage\"].fillna(median)"
   ]
  },
  {
   "cell_type": "code",
   "execution_count": 55,
   "id": "11789c6e",
   "metadata": {},
   "outputs": [
    {
     "data": {
      "text/plain": [
       "0.0"
      ]
     },
     "execution_count": 55,
     "metadata": {},
     "output_type": "execute_result"
    }
   ],
   "source": [
    "df1[\"LotFrontage\"].isnull().mean()"
   ]
  },
  {
   "cell_type": "code",
   "execution_count": null,
   "id": "bf8a4aad",
   "metadata": {},
   "outputs": [],
   "source": [
    "cont_cols=[\"a\",\"b\",\"c\",\"d\",\"e\"]\n",
    "for i in cont_cols:\n",
    "    median=df1[i].median()\n",
    "    df1[i].fillna(median,inplace=True)\n",
    "    "
   ]
  },
  {
   "cell_type": "markdown",
   "id": "6f7cc7ec",
   "metadata": {},
   "source": [
    "# Outliers Identification\n",
    "# Outlier Treatment"
   ]
  },
  {
   "cell_type": "code",
   "execution_count": 56,
   "id": "1a52bef8",
   "metadata": {},
   "outputs": [
    {
     "data": {
      "text/plain": [
       "<AxesSubplot:xlabel='LotFrontage'>"
      ]
     },
     "execution_count": 56,
     "metadata": {},
     "output_type": "execute_result"
    },
    {
     "data": {
      "image/png": "[encoded data removed]",
      "text/plain": [
       "<Figure size 432x288 with 1 Axes>"
      ]
     },
     "metadata": {
      "needs_background": "light"
     },
     "output_type": "display_data"
    }
   ],
   "source": [
    "sns.boxplot(df[\"LotFrontage\"])"
   ]
  },
  {
   "cell_type": "code",
   "execution_count": 59,
   "id": "0f1fc595",
   "metadata": {},
   "outputs": [
    {
     "data": {
      "text/plain": [
       "count    1460.000000\n",
       "mean       69.863699\n",
       "std        22.027677\n",
       "min        21.000000\n",
       "25%        60.000000\n",
       "50%        69.000000\n",
       "75%        79.000000\n",
       "max       313.000000\n",
       "Name: LotFrontage, dtype: float64"
      ]
     },
     "execution_count": 59,
     "metadata": {},
     "output_type": "execute_result"
    }
   ],
   "source": [
    "df1[\"LotFrontage\"].describe()"
   ]
  },
  {
   "cell_type": "code",
   "execution_count": 60,
   "id": "ebb1f20a",
   "metadata": {},
   "outputs": [
    {
     "data": {
      "text/plain": [
       "(27.5, 111.5)"
      ]
     },
     "execution_count": 60,
     "metadata": {},
     "output_type": "execute_result"
    }
   ],
   "source": [
    "q1=59.000000 #(25th percentile)\n",
    "q3=80.000000 #(75th percentile)\n",
    "iqr=q3-q1 #(Inter quartile range)\n",
    "lower_bound=q1-1.5*iqr\n",
    "upper_bound=q3+1.5*iqr\n",
    "lower_bound,upper_bound"
   ]
  },
  {
   "cell_type": "code",
   "execution_count": 64,
   "id": "00ac7e1d",
   "metadata": {},
   "outputs": [
    {
     "data": {
      "text/plain": [
       "(42,)"
      ]
     },
     "execution_count": 64,
     "metadata": {},
     "output_type": "execute_result"
    }
   ],
   "source": [
    "df1[df1[\"LotFrontage\"]<lower_bound][\"LotFrontage\"]"
   ]
  },
  {
   "cell_type": "code",
   "execution_count": 65,
   "id": "50d18f5f",
   "metadata": {},
   "outputs": [
    {
     "data": {
      "text/plain": [
       "36      112.0\n",
       "41      115.0\n",
       "85      121.0\n",
       "86      122.0\n",
       "150     120.0\n",
       "159     134.0\n",
       "171     141.0\n",
       "197     174.0\n",
       "231     174.0\n",
       "260     120.0\n",
       "276     129.0\n",
       "277     140.0\n",
       "290     120.0\n",
       "302     118.0\n",
       "306     116.0\n",
       "313     150.0\n",
       "429     130.0\n",
       "446     137.0\n",
       "523     130.0\n",
       "662     120.0\n",
       "807     144.0\n",
       "825     114.0\n",
       "889     128.0\n",
       "906     116.0\n",
       "909     149.0\n",
       "934     313.0\n",
       "963     122.0\n",
       "966     130.0\n",
       "991     121.0\n",
       "1010    115.0\n",
       "1061    120.0\n",
       "1106    114.0\n",
       "1107    168.0\n",
       "1127    182.0\n",
       "1151    134.0\n",
       "1168    120.0\n",
       "1169    118.0\n",
       "1173    138.0\n",
       "1182    160.0\n",
       "1211    152.0\n",
       "1273    124.0\n",
       "1298    313.0\n",
       "1337    153.0\n",
       "1339    120.0\n",
       "1359    129.0\n",
       "1361    124.0\n",
       "Name: LotFrontage, dtype: float64"
      ]
     },
     "execution_count": 65,
     "metadata": {},
     "output_type": "execute_result"
    }
   ],
   "source": [
    "df1[df1[\"LotFrontage\"]>upper_bound][\"LotFrontage\"]"
   ]
  },
  {
   "cell_type": "code",
   "execution_count": null,
   "id": "0d7d5298",
   "metadata": {},
   "outputs": [],
   "source": [
    "## Outliers on higher side(>upper_bound) capped at upper_bound (Capping)\n",
    "## Outliers on lower side (<lower_bound) floor at lower_bound (Flooring)"
   ]
  },
  {
   "cell_type": "code",
   "execution_count": 67,
   "id": "db6bb816",
   "metadata": {},
   "outputs": [],
   "source": [
    "## Capping\n",
    "df1[\"LotFrontage\"]=np.where(df1[\"LotFrontage\"]>upper_bound,upper_bound,df1[\"LotFrontage\"])\n",
    "\n",
    "## Flooring\n",
    "df1[\"LotFrontage\"]=np.where(df1[\"LotFrontage\"]<lower_bound,lower_bound,df1[\"LotFrontage\"])"
   ]
  },
  {
   "cell_type": "code",
   "execution_count": 69,
   "id": "00c01551",
   "metadata": {},
   "outputs": [
    {
     "data": {
      "text/plain": [
       "<AxesSubplot:xlabel='LotFrontage'>"
      ]
     },
     "execution_count": 69,
     "metadata": {},
     "output_type": "execute_result"
    },
    {
     "data": {
      "image/png": "[encoded data removed]",
      "text/plain": [
       "<Figure size 432x288 with 1 Axes>"
      ]
     },
     "metadata": {
      "needs_background": "light"
     },
     "output_type": "display_data"
    }
   ],
   "source": [
    "sns.boxplot(df1[\"LotFrontage\"])"
   ]
  },
  {
   "cell_type": "code",
   "execution_count": null,
   "id": "63cd9945",
   "metadata": {},
   "outputs": [],
   "source": [
    "def outlier(cont_cols):  \n",
    "    for i in cont_cols:\n",
    "        q1=df1[i].describe()[\"25%\"]\n",
    "        q3=df1[i].describe()[\"75%\"]\n",
    "        iqr=q3-q1 #(Inter quartile range)\n",
    "        lower_bound=q1-1.5*iqr\n",
    "        upper_bound=q3+1.5*iqr\n",
    "        ## Capping\n",
    "        if len(df1[df1[i]>upper_bound][i])>0:\n",
    "            df1[i]=np.where(df1[i]>upper_bound,upper_bound,df1[i])\n",
    "\n",
    "        ## Flooring\n",
    "        if len(df1[df1[i]<lower_bound][i])>0:\n",
    "            df1[i]=np.where(df1[i]<lower_bound,lower_bound,df1[i])"
   ]
  },
  {
   "cell_type": "code",
   "execution_count": 74,
   "id": "fd9661f2",
   "metadata": {},
   "outputs": [
    {
     "data": {
      "text/plain": [
       "59.0"
      ]
     },
     "execution_count": 74,
     "metadata": {},
     "output_type": "execute_result"
    }
   ],
   "source": [
    "df1[\"LotFrontage\"].describe()[\"25%\"]"
   ]
  },
  {
   "cell_type": "code",
   "execution_count": null,
   "id": "f24cfa67",
   "metadata": {},
   "outputs": [],
   "source": []
  }
 ],
 "metadata": {
  "language_info": {
   "codemirror_mode": {
    "name": "ipython",
    "version": 3
   },
   "file_extension": ".py",
   "mimetype": "text/x-python",
   "name": "python",
   "nbconvert_exporter": "python",
   "pygments_lexer": "ipython3",
   "version": "3.8.8"
  }
 },
 "nbformat": 4,
 "nbformat_minor": 5
}